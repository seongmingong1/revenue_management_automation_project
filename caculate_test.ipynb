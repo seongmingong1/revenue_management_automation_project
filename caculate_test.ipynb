{
 "cells": [
  {
   "cell_type": "code",
   "execution_count": 42,
   "metadata": {},
   "outputs": [],
   "source": [
    "import pandas as pd \n",
    "import gspread\n",
    "import os\n",
    "from oauth2client.service_account import ServiceAccountCredentials\n",
    "import mysql.connector\n",
    "from datetime import datetime\n",
    "import pendulum\n",
    "import pandas as pd\n",
    "import numpy as np \n",
    "from dotenv import load_dotenv\n",
    "from forex_python.converter import CurrencyRates\n",
    "import requests\n",
    "\n"
   ]
  },
  {
   "cell_type": "code",
   "execution_count": 43,
   "metadata": {},
   "outputs": [
    {
     "name": "stderr",
     "output_type": "stream",
     "text": [
      "/var/folders/1k/fr48krgd145fj258_ll4wx1m0000gn/T/ipykernel_10659/3376892106.py:11: UserWarning: pandas only supports SQLAlchemy connectable (engine/connection) or database string URI or sqlite3 DBAPI2 connection. Other DBAPI2 objects are not tested. Please consider using SQLAlchemy.\n",
      "  students_df = pd.read_sql(\"SELECT * FROM students\", conn)\n",
      "/var/folders/1k/fr48krgd145fj258_ll4wx1m0000gn/T/ipykernel_10659/3376892106.py:12: UserWarning: pandas only supports SQLAlchemy connectable (engine/connection) or database string URI or sqlite3 DBAPI2 connection. Other DBAPI2 objects are not tested. Please consider using SQLAlchemy.\n",
      "  lessons_df = pd.read_sql(\"SELECT * FROM lesson\", conn)\n"
     ]
    }
   ],
   "source": [
    "\n",
    "load_dotenv()\n",
    "\n",
    "password = os.getenv(\"MYSQL_PASSWORD\")\n",
    "conn = mysql.connector.connect(\n",
    "    host=\"localhost\",\n",
    "    user =\"root\",\n",
    "    password=password,\n",
    "    database= \"job_project\"\n",
    ")\n",
    "\n",
    "students_df = pd.read_sql(\"SELECT * FROM students\", conn)\n",
    "lessons_df = pd.read_sql(\"SELECT * FROM lesson\", conn)\n",
    "conn.close()\n"
   ]
  },
  {
   "cell_type": "code",
   "execution_count": 44,
   "metadata": {},
   "outputs": [
    {
     "name": "stdout",
     "output_type": "stream",
     "text": [
      "    student_id student_name  time       fee currency\n",
      "0            1         크세니야  1.00   1400.00      RUB\n",
      "1            2        아나스타샤  0.75    900.00      RUB\n",
      "2            3           사라  0.75     14.45      USD\n",
      "3            4           싸샤  1.00     15.30      USD\n",
      "4            5         세르게이  1.00  22000.00      KRW\n",
      "5            6     나탈리아 (상)  1.00     15.30      USD\n",
      "6            7           엠마  0.50      8.50      USD\n",
      "7            8           막심  1.00     15.30      USD\n",
      "8            9         발레리아  1.00   1300.00      RUB\n",
      "9           10          아르쬼  0.75   1300.00      RUB\n",
      "10          11           샐리  1.00     12.75      USD\n",
      "11          12           헬가  1.00     15.30      USD\n",
      "12          13          디아나  1.00   1500.00      RUB\n",
      "13          14          엘레나  1.00  19000.00      KRW\n",
      "14          15          비탈리  0.75      9.35      USD\n",
      "15          16          이리나  1.00     15.30      USD\n",
      "16          17         베로니카  1.00     15.30      USD\n",
      "17          18     나탈리아 (한)  1.00  20000.00      KRW\n",
      "18          19            루  0.75      9.35      USD\n",
      "19          20           예바  0.50     11.05      USD\n",
      "20          21           안나  1.00     15.30      USD\n",
      "21          22          마이클  1.00     15.30      USD\n",
      "22          23      다리아 (한)  0.75      9.35      USD\n",
      "23          24          알료나  1.00   1700.00      RUB\n",
      "24          25          나스쨔  1.00     15.30      USD\n",
      "25          26      이리나 (우)  0.50     11.05      USD\n",
      "26          27          소피아  1.00  20000.00      KRW\n",
      "27          28      다리아 (영)  0.75     13.60      USD\n",
      "28          29           올랴  1.00     17.00      USD\n",
      "29          30          폴리나  0.75     13.60      USD\n",
      "30          31           리와  0.50      8.50      USD\n",
      "31          32          레기나  0.75     13.60      USD\n",
      "32          33     나탈리아 (러)  1.00   1400.00      RUB\n",
      "33          34          클라타  0.50      8.50      USD\n",
      "34          35           마야  0.50     11.05      USD\n",
      "35          36          율리야  0.50      8.50      USD\n",
      "36          37           상호  1.00     12.75      USD\n",
      "37          38          리디야  0.50      8.50      USD\n",
      "38          39     크세니야 (브)  0.75     13.60      USD\n",
      "39          40           노라  0.75     13.60      USD\n",
      "40          41          앤드류  1.00     12.75      USD\n",
      "41          42          새학생  0.50      8.00      USD\n"
     ]
    }
   ],
   "source": [
    "print (students_df)"
   ]
  },
  {
   "cell_type": "code",
   "execution_count": 45,
   "metadata": {},
   "outputs": [
    {
     "name": "stdout",
     "output_type": "stream",
     "text": [
      "    student_id lesson_date   lesson_type student_name\n",
      "0            1  2024-10-13       grammar         크세니야\n",
      "1            1  2024-10-20       grammar         크세니야\n",
      "2            2  2024-10-06       reading        아나스타샤\n",
      "3            2  2024-10-13       reading        아나스타샤\n",
      "4            3  2024-10-02         topik           사라\n",
      "..         ...         ...           ...          ...\n",
      "77          39  2024-10-16       grammar     크세니야 (브)\n",
      "78          40  2024-10-06       grammar           노라\n",
      "79          41  2024-10-08  conversation          앤드류\n",
      "80          42  2024-10-21       grammar          새학생\n",
      "81          42  2024-10-22       grammar          새학생\n",
      "\n",
      "[82 rows x 4 columns]\n"
     ]
    }
   ],
   "source": [
    "print(lessons_df)"
   ]
  },
  {
   "cell_type": "code",
   "execution_count": 46,
   "metadata": {},
   "outputs": [
    {
     "name": "stdout",
     "output_type": "stream",
     "text": [
      "   student_id lesson_date lesson_type student_name_x student_name_y  time  \\\n",
      "0           1  2024-10-13     grammar           크세니야           크세니야  1.00   \n",
      "1           1  2024-10-20     grammar           크세니야           크세니야  1.00   \n",
      "2           2  2024-10-06     reading          아나스타샤          아나스타샤  0.75   \n",
      "3           2  2024-10-13     reading          아나스타샤          아나스타샤  0.75   \n",
      "4           3  2024-10-02       topik             사라             사라  0.75   \n",
      "\n",
      "       fee currency  \n",
      "0  1400.00      RUB  \n",
      "1  1400.00      RUB  \n",
      "2   900.00      RUB  \n",
      "3   900.00      RUB  \n",
      "4    14.45      USD  \n"
     ]
    }
   ],
   "source": [
    "merged_df = pd.merge(lessons_df, students_df, on='student_id')\n",
    "print(merged_df.head(5))"
   ]
  },
  {
   "cell_type": "code",
   "execution_count": 47,
   "metadata": {},
   "outputs": [
    {
     "name": "stdout",
     "output_type": "stream",
     "text": [
      "    student_id lesson_date   lesson_type student_name_x  time      fee  \\\n",
      "0            1  2024-10-13       grammar           크세니야  1.00  1400.00   \n",
      "1            1  2024-10-20       grammar           크세니야  1.00  1400.00   \n",
      "2            2  2024-10-06       reading          아나스타샤  0.75   900.00   \n",
      "3            2  2024-10-13       reading          아나스타샤  0.75   900.00   \n",
      "4            3  2024-10-02         topik             사라  0.75    14.45   \n",
      "..         ...         ...           ...            ...   ...      ...   \n",
      "77          39  2024-10-16       grammar       크세니야 (브)  0.75    13.60   \n",
      "78          40  2024-10-06       grammar             노라  0.75    13.60   \n",
      "79          41  2024-10-08  conversation            앤드류  1.00    12.75   \n",
      "80          42  2024-10-21       grammar            새학생  0.50     8.00   \n",
      "81          42  2024-10-22       grammar            새학생  0.50     8.00   \n",
      "\n",
      "   currency  \n",
      "0       RUB  \n",
      "1       RUB  \n",
      "2       RUB  \n",
      "3       RUB  \n",
      "4       USD  \n",
      "..      ...  \n",
      "77      USD  \n",
      "78      USD  \n",
      "79      USD  \n",
      "80      USD  \n",
      "81      USD  \n",
      "\n",
      "[82 rows x 7 columns]\n"
     ]
    }
   ],
   "source": [
    "merged_df = merged_df.drop('student_name_y', axis=1)\n",
    "print(merged_df)"
   ]
  },
  {
   "cell_type": "code",
   "execution_count": 48,
   "metadata": {},
   "outputs": [
    {
     "name": "stdout",
     "output_type": "stream",
     "text": [
      "    student_id lesson_date   lesson_type student_name_x  time    fee currency\n",
      "4            3  2024-10-02         topik             사라  0.75  14.45      USD\n",
      "22          11  2024-10-02  conversation             샐리  1.00  12.75      USD\n",
      "46          21  2024-10-02       grammar             안나  1.00  15.30      USD\n",
      "61          29  2024-10-02         topik             올랴  1.00  17.00      USD\n",
      "63          30  2024-10-02       grammar            폴리나  0.75  13.60      USD\n",
      "66          32  2024-10-02       grammar            레기나  0.75  13.60      USD\n",
      "73          37  2024-10-02  conversation             상호  1.00  12.75      USD\n"
     ]
    }
   ],
   "source": [
    "oct_2_data = merged_df.loc[merged_df['lesson_date'] == '2024-10-02']\n",
    "print(oct_2_data)"
   ]
  },
  {
   "cell_type": "code",
   "execution_count": 49,
   "metadata": {},
   "outputs": [
    {
     "name": "stdout",
     "output_type": "stream",
     "text": [
      "student_id                 int64\n",
      "lesson_date       datetime64[ns]\n",
      "lesson_type               object\n",
      "student_name_x            object\n",
      "time                     float64\n",
      "fee                      float64\n",
      "currency                  object\n",
      "dtype: object\n"
     ]
    }
   ],
   "source": [
    "\n",
    "merged_df['lesson_date'] = pd.to_datetime(merged_df['lesson_date'], errors='coerce')\n",
    "print(merged_df.dtypes)"
   ]
  },
  {
   "cell_type": "code",
   "execution_count": 50,
   "metadata": {},
   "outputs": [],
   "source": [
    "api_key = os.getenv(\"api_key\")\n",
    "url = f\"http://data.fixer.io/api/latest?access_key={api_key}\"\n",
    "response = requests.get(url)\n",
    "data = response.json()\n"
   ]
  },
  {
   "cell_type": "code",
   "execution_count": 51,
   "metadata": {},
   "outputs": [
    {
     "name": "stdout",
     "output_type": "stream",
     "text": [
      "0.9258307710966743\n",
      "0.00966888805824546\n",
      "1380.6503109402645\n",
      "14.41878334660501\n"
     ]
    }
   ],
   "source": [
    "eur_to_usd = data['rates']['USD']  # 1 EUR -> USD 환율\n",
    "eur_to_rub = data['rates']['RUB']  # 1 EUR -> RUB\n",
    "eur_to_krw = data['rates']['KRW'] # 1EUR -> KRW\n",
    "EUR = data['rates']['EUR']\n",
    "\n",
    "usd_to_eur = 1 / eur_to_usd\n",
    "rub_to_eur = 1 / eur_to_rub\n",
    "usd_to_krw = usd_to_eur * eur_to_krw\n",
    "rub_to_krw = rub_to_eur * eur_to_krw\n",
    "\n",
    "print(usd_to_eur)\n",
    "print(rub_to_eur)\n",
    "print(usd_to_krw)\n",
    "print(rub_to_krw)\n",
    "\n"
   ]
  },
  {
   "cell_type": "markdown",
   "metadata": {},
   "source": [
    "## Daily revenue\n"
   ]
  },
  {
   "cell_type": "code",
   "execution_count": 52,
   "metadata": {},
   "outputs": [
    {
     "name": "stdout",
     "output_type": "stream",
     "text": [
      "currency         KRW     RUB    USD\n",
      "lesson_date                        \n",
      "2024-10-02       NaN     NaN  99.45\n",
      "2024-10-03   19000.0  1300.0  33.15\n",
      "2024-10-04       NaN  3000.0  28.90\n",
      "2024-10-06   22000.0   900.0  39.95\n",
      "2024-10-07   19000.0  4100.0  41.65\n",
      "2024-10-08       NaN     NaN  25.50\n",
      "2024-10-09       NaN  1500.0  81.60\n",
      "2024-10-10   19000.0  4300.0  15.30\n",
      "2024-10-11       NaN     NaN  15.30\n",
      "2024-10-13   22000.0  2300.0  63.75\n",
      "2024-10-14   19000.0  2800.0  28.05\n",
      "2024-10-16   20000.0  1500.0  71.40\n",
      "2024-10-17   19000.0     NaN  32.30\n",
      "2024-10-18       NaN  3000.0  26.35\n",
      "2024-10-20   22000.0  1400.0  11.05\n",
      "2024-10-21   19000.0  2800.0  28.40\n",
      "2024-10-22       NaN     NaN  34.35\n"
     ]
    },
    {
     "name": "stderr",
     "output_type": "stream",
     "text": [
      "/var/folders/1k/fr48krgd145fj258_ll4wx1m0000gn/T/ipykernel_10659/1584301517.py:1: DeprecationWarning: DataFrameGroupBy.apply operated on the grouping columns. This behavior is deprecated, and in a future version of pandas the grouping columns will be excluded from the operation. Either pass `include_groups=False` to exclude the groupings or explicitly select the grouping columns after groupby to silence this warning.\n",
      "  daily_revenue = merged_df.groupby(['lesson_date','currency']).apply(lambda x: (x['fee']).sum()).unstack()\n"
     ]
    }
   ],
   "source": [
    "daily_revenue = merged_df.groupby(['lesson_date','currency']).apply(lambda x: (x['fee']).sum()).unstack()\n",
    "print(daily_revenue)"
   ]
  },
  {
   "cell_type": "code",
   "execution_count": 53,
   "metadata": {},
   "outputs": [
    {
     "name": "stdout",
     "output_type": "stream",
     "text": [
      "currency         KRW     RUB    USD  total_eur  total_krw\n",
      "lesson_date                                              \n",
      "2024-10-02       NaN     NaN  99.45      92.07  137305.67\n",
      "2024-10-03   19000.0  1300.0  33.15      43.26   83512.98\n",
      "2024-10-04       NaN  3000.0  28.90      55.76   83157.14\n",
      "2024-10-06   22000.0   900.0  39.95      45.69   90133.88\n",
      "2024-10-07   19000.0  4100.0  41.65      78.20  135621.10\n",
      "2024-10-08       NaN     NaN  25.50      23.61   35206.58\n",
      "2024-10-09       NaN  1500.0  81.60      90.05  134289.24\n",
      "2024-10-10   19000.0  4300.0  15.30      55.74  102124.72\n",
      "2024-10-11       NaN     NaN  15.30      14.17   21123.95\n",
      "2024-10-13   22000.0  2300.0  63.75      81.26  143179.66\n",
      "2024-10-14   19000.0  2800.0  28.05      53.04   98099.83\n",
      "2024-10-16   20000.0  1500.0  71.40      80.61  140206.61\n",
      "2024-10-17   19000.0     NaN  32.30      29.90   63595.01\n",
      "2024-10-18       NaN  3000.0  26.35      53.40   79636.49\n",
      "2024-10-20   22000.0  1400.0  11.05      23.77   57442.48\n",
      "2024-10-21   19000.0  2800.0  28.40      53.37   98583.06\n",
      "2024-10-22       NaN     NaN  34.35      31.80   47425.34\n"
     ]
    },
    {
     "name": "stderr",
     "output_type": "stream",
     "text": [
      "/var/folders/1k/fr48krgd145fj258_ll4wx1m0000gn/T/ipykernel_10659/3855049484.py:1: DeprecationWarning: DataFrameGroupBy.apply operated on the grouping columns. This behavior is deprecated, and in a future version of pandas the grouping columns will be excluded from the operation. Either pass `include_groups=False` to exclude the groupings or explicitly select the grouping columns after groupby to silence this warning.\n",
      "  daily_revenue = merged_df.groupby(['lesson_date','currency']).apply(lambda x: (x['fee']).sum()).unstack()\n"
     ]
    }
   ],
   "source": [
    "daily_revenue = merged_df.groupby(['lesson_date','currency']).apply(lambda x: (x['fee']).sum()).unstack()\n",
    "daily_revenue['total_eur'] = (daily_revenue['USD'].fillna(0) * usd_to_eur + daily_revenue['RUB'].fillna(0) * rub_to_eur).round(2)\n",
    "daily_revenue['total_krw'] = (daily_revenue['KRW'].fillna(0) + daily_revenue['USD'].fillna(0) * usd_to_krw + daily_revenue['RUB'].fillna(0) * rub_to_krw).round(2)\n",
    "\n",
    "\n",
    "print(daily_revenue)"
   ]
  },
  {
   "cell_type": "markdown",
   "metadata": {},
   "source": [
    "## Weekly Revenue"
   ]
  },
  {
   "cell_type": "code",
   "execution_count": 54,
   "metadata": {},
   "outputs": [
    {
     "name": "stdout",
     "output_type": "stream",
     "text": [
      "currency         KRW      RUB     USD  total_eur  total_krw\n",
      "lesson_date                                                \n",
      "2024-10-06   41000.0   5200.0  201.45     236.78  394109.67\n",
      "2024-10-13   60000.0  12200.0  243.10     343.03  571545.25\n",
      "2024-10-20   80000.0   8700.0  169.15     240.72  438980.42\n",
      "2024-10-27   19000.0   2800.0   62.75      85.17  146008.40\n"
     ]
    }
   ],
   "source": [
    "daily_revenue = daily_revenue.reset_index()\n",
    "daily_revenue['lesson_date'] = pd.to_datetime(daily_revenue['lesson_date'])\n",
    "\n",
    "weekly_revenue = daily_revenue.groupby(pd.Grouper(key='lesson_date', freq='W-SUN')).sum()\n",
    "\n",
    "print(weekly_revenue)"
   ]
  },
  {
   "cell_type": "markdown",
   "metadata": {},
   "source": [
    "## Monthly Revenue"
   ]
  },
  {
   "cell_type": "code",
   "execution_count": 56,
   "metadata": {},
   "outputs": [
    {
     "name": "stdout",
     "output_type": "stream",
     "text": [
      "currency     level_0  index       KRW      RUB     USD  total_eur   total_krw\n",
      "lesson_date                                                                  \n",
      "2024-10-31       136    136  200000.0  28900.0  676.45      905.7  1550643.74\n"
     ]
    },
    {
     "name": "stderr",
     "output_type": "stream",
     "text": [
      "/var/folders/1k/fr48krgd145fj258_ll4wx1m0000gn/T/ipykernel_10659/3841289007.py:8: FutureWarning: 'M' is deprecated and will be removed in a future version, please use 'ME' instead.\n",
      "  pd.Grouper(key='lesson_date', freq='M')\n"
     ]
    }
   ],
   "source": [
    "\n",
    "daily_revenue = daily_revenue.reset_index()\n",
    "daily_revenue['lesson_date'] = pd.to_datetime(daily_revenue['lesson_date'])\n",
    "\n",
    "# 월별 수입 계산 (이번 달도 포함)\n",
    "current_date = pd.to_datetime('today')\n",
    "\n",
    "monthly_revenue = daily_revenue[daily_revenue['lesson_date'] <= current_date].groupby(\n",
    "pd.Grouper(key='lesson_date', freq='M')\n",
    ").sum()\n",
    "\n",
    "print(monthly_revenue)\n"
   ]
  }
 ],
 "metadata": {
  "kernelspec": {
   "display_name": "Python (proenv)",
   "language": "python",
   "name": "proenv"
  },
  "language_info": {
   "codemirror_mode": {
    "name": "ipython",
    "version": 3
   },
   "file_extension": ".py",
   "mimetype": "text/x-python",
   "name": "python",
   "nbconvert_exporter": "python",
   "pygments_lexer": "ipython3",
   "version": "3.9.6"
  }
 },
 "nbformat": 4,
 "nbformat_minor": 2
}
